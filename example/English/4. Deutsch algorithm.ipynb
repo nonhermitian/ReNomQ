{
 "cells": [
  {
   "cell_type": "markdown",
   "metadata": {},
   "source": [
    "# 4: Deutsch algorithm"
   ]
  },
  {
   "cell_type": "code",
   "execution_count": 1,
   "metadata": {},
   "outputs": [],
   "source": [
    "from renom_q import *"
   ]
  },
  {
   "cell_type": "markdown",
   "metadata": {},
   "source": [
    "The Deutsch problem is the problem of judging the type of a function $f(x)$ whose binary variable $x$ takes 0, 1 and whose function value is also a binary number.\n",
    "- The constant function     $f(0) = f(1)$\n",
    "- The balanced function     $f(0) \\neq f(1)$"
   ]
  },
  {
   "cell_type": "markdown",
   "metadata": {},
   "source": [
    "A quantum circuit that implements the function $f_x$ is called an oracle and is a quantum gate of a unitary matrix $U_f$ of some black box that realizes the properties of the function."
   ]
  },
  {
   "cell_type": "markdown",
   "metadata": {},
   "source": [
    "$$\\left| x \\right\\rangle\\left| y \\right\\rangle \\xrightarrow{U_f} \\left| x \\right\\rangle\\left| y \\oplus f(x) \\right\\rangle$$"
   ]
  },
  {
   "cell_type": "markdown",
   "metadata": {},
   "source": [
    "In the Deutsch problem, by configuring the output bit　$\\left| x \\right\\rangle$　of the Oracle to be $f(0) \\oplus f(1)$, it is possible to judge that when the upper bit is measured, if it is $\\left| 1 \\right\\rangle$, it is a balanced function, if it is $\\left| 0 \\right\\rangle$, it can be determined to be a constant function."
   ]
  },
  {
   "cell_type": "markdown",
   "metadata": {},
   "source": [
    "$$\\left| 0 \\right\\rangle\\left| 1 \\right\\rangle \\xrightarrow{H \\otimes H} \\frac{\\left| 0 \\right\\rangle + \\left| 1 \\right\\rangle}{\\sqrt{2}} \\frac{\\left| 0 \\right\\rangle - \\left| 1 \\right\\rangle}{\\sqrt{2}} \\xrightarrow{U_f} \\pm \\frac{\\left| 0 \\right\\rangle \\pm \\left| 1 \\right\\rangle}{\\sqrt{2}}\\frac{\\left| 0 \\right\\rangle - \\left| 1 \\right\\rangle}{\\sqrt{2}} \\xrightarrow{H \\otimes H} \\pm \\left| f(0) \\oplus f(1) \\right\\rangle\\left| 1 \\right\\rangle$$"
   ]
  },
  {
   "cell_type": "markdown",
   "metadata": {},
   "source": [
    "<img src='images/oracle.png' width=50%>"
   ]
  },
  {
   "cell_type": "markdown",
   "metadata": {},
   "source": [
    "## Example1: Constant function"
   ]
  },
  {
   "cell_type": "code",
   "execution_count": 2,
   "metadata": {},
   "outputs": [
    {
     "name": "stdout",
     "output_type": "stream",
     "text": [
      "{'0': 1024}\n"
     ]
    },
    {
     "data": {
      "image/png": "[encoded data removed]",
      "text/plain": [
       "<Figure size 432x288 with 1 Axes>"
      ]
     },
     "metadata": {
      "needs_background": "light"
     },
     "output_type": "display_data"
    },
    {
     "data": {
      "image/png": "[encoded data removed]",
      "text/plain": [
       "<Figure size 662.2x198.66 with 1 Axes>"
      ]
     },
     "execution_count": 2,
     "metadata": {},
     "output_type": "execute_result"
    }
   ],
   "source": [
    "def c_oracle(qci, x, y_fx):\n",
    "    qci.x(y_fx)\n",
    "\n",
    "bn = 2\n",
    "q = QuantumRegister(bn)\n",
    "c = ClassicalRegister(1)\n",
    "qc = QuantumCircuit(q, c)\n",
    "\n",
    "qc.x(q[1])\n",
    "for i in range(bn):\n",
    "    qc.h(q[i])\n",
    "qc.barrier()\n",
    "c_oracle(qc, q[0], q[1])\n",
    "qc.barrier()\n",
    "for i in range(bn):\n",
    "    qc.h(q[i])\n",
    "qc.barrier()\n",
    "\n",
    "qc.measure(q[0], c[0])\n",
    "\n",
    "r = execute(qc)\n",
    "print(r)\n",
    "plot_histogram(r)\n",
    "draw_circuit(qc)"
   ]
  },
  {
   "cell_type": "markdown",
   "metadata": {},
   "source": [
    "## Example2: Balanced function"
   ]
  },
  {
   "cell_type": "code",
   "execution_count": 3,
   "metadata": {},
   "outputs": [
    {
     "name": "stdout",
     "output_type": "stream",
     "text": [
      "{'1': 1024}\n"
     ]
    },
    {
     "data": {
      "image/png": "[encoded data removed]",
      "text/plain": [
       "<Figure size 432x288 with 1 Axes>"
      ]
     },
     "metadata": {
      "needs_background": "light"
     },
     "output_type": "display_data"
    },
    {
     "data": {
      "image/png": "[encoded data removed]",
      "text/plain": [
       "<Figure size 662.2x198.66 with 1 Axes>"
      ]
     },
     "execution_count": 3,
     "metadata": {},
     "output_type": "execute_result"
    }
   ],
   "source": [
    "def b_oracle(qci, x, y_fx):\n",
    "    qci.cx(x, y_fx)\n",
    "    \n",
    "bn = 2\n",
    "q = QuantumRegister(bn)\n",
    "c = ClassicalRegister(1)\n",
    "qc = QuantumCircuit(q, c)\n",
    "\n",
    "qc.x(q[1])\n",
    "for i in range(bn):\n",
    "    qc.h(q[i])\n",
    "qc.barrier()\n",
    "b_oracle(qc, q[0], q[1])\n",
    "qc.barrier()\n",
    "for i in range(bn):\n",
    "    qc.h(q[i])\n",
    "qc.barrier()\n",
    "\n",
    "qc.measure(q[0], c[0])\n",
    "\n",
    "r = execute(qc)\n",
    "print(r)\n",
    "plot_histogram(r)\n",
    "draw_circuit(qc)"
   ]
  },
  {
   "cell_type": "code",
   "execution_count": null,
   "metadata": {},
   "outputs": [],
   "source": []
  }
 ],
 "metadata": {
  "kernelspec": {
   "display_name": "Python 3",
   "language": "python",
   "name": "python3"
  },
  "language_info": {
   "codemirror_mode": {
    "name": "ipython",
    "version": 3
   },
   "file_extension": ".py",
   "mimetype": "text/x-python",
   "name": "python",
   "nbconvert_exporter": "python",
   "pygments_lexer": "ipython3",
   "version": "3.6.8"
  }
 },
 "nbformat": 4,
 "nbformat_minor": 2
}
